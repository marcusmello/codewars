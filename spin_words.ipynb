{
 "cells": [
  {
   "cell_type": "markdown",
   "metadata": {},
   "source": [
    "# Stop gninnipS My sdroW!\n",
    "\n",
    "puntuação = 6 kyu\n",
    "\n",
    "## Instructions\n",
    "\n",
    "Write a function that takes in a string of one or more words, and returns the same string, but with all five or more letter words reversed (Just like the name of this Kata). Strings passed in will consist of only letters and spaces. Spaces will be included only when more than one word is present.\n",
    "\n",
    "Examples: \n",
    "\n",
    "```py\n",
    "spinWords( \"Hey fellow warriors\" ) => returns \"Hey wollef sroirraw\" \n",
    "\n",
    "spinWords( \"This is a test\") => returns \"This is a test\" \n",
    "\n",
    "spinWords( \"This is another test\" )=> returns \"This is rehtona test\"\n",
    "```\n"
   ]
  },
  {
   "cell_type": "code",
   "execution_count": 46,
   "metadata": {},
   "outputs": [],
   "source": [
    "# Final result\n",
    "\n",
    "def spin_words(sentence):\n",
    "\n",
    "    return ' '.join([word if len(word)<5 else word[::-1] for word in sentence.split()])"
   ]
  },
  {
   "cell_type": "code",
   "execution_count": 47,
   "metadata": {},
   "outputs": [
    {
     "data": {
      "text/plain": [
       "'Olá !odnum Se eu for uma arvalap com mais de ocnic ,sartel me asrevni'"
      ]
     },
     "execution_count": 47,
     "metadata": {},
     "output_type": "execute_result"
    }
   ],
   "source": [
    "# Testing\n",
    "\n",
    "my_sentence = \"Olá mundo! Se eu for uma palavra com mais de cinco letras, me inversa\"\n",
    "spin_words(my_sentence)"
   ]
  },
  {
   "cell_type": "code",
   "execution_count": 49,
   "metadata": {},
   "outputs": [
    {
     "name": "stdout",
     "output_type": "stream",
     "text": [
      "to_long_world\n",
      "dlrow_gnol_ot\n"
     ]
    }
   ],
   "source": [
    "## 1st: How reverse words?\n",
    "\n",
    "word = \"to_long_world\"\n",
    "reverse = word[::-1]\n",
    "print(word)\n",
    "print(reverse)"
   ]
  },
  {
   "cell_type": "code",
   "execution_count": 48,
   "metadata": {},
   "outputs": [
    {
     "name": "stdout",
     "output_type": "stream",
     "text": [
      "['1', '0', '0', '0', '0', '1', '0', '0', '0', '0', '1', '0', '0', '0', '0', '1']\n"
     ]
    }
   ],
   "source": [
    "# 2nd: List comprehension:\n",
    "\n",
    "resultado = ['1' if numero % 5 == 0 else '0' for numero in range(16)]\n",
    "print(resultado)"
   ]
  },
  {
   "cell_type": "code",
   "execution_count": 50,
   "metadata": {},
   "outputs": [
    {
     "name": "stdout",
     "output_type": "stream",
     "text": [
      "['Olá', 'mundo!', 'Se', 'eu', 'for', 'uma', 'palavra', 'com', 'mais', 'de', 'cinco', 'letras,', 'me', 'inversa']\n"
     ]
    }
   ],
   "source": [
    "# 3rd: Breacking the sentence into words\n",
    "\n",
    "print(my_sentence.split())"
   ]
  },
  {
   "cell_type": "code",
   "execution_count": 28,
   "metadata": {},
   "outputs": [
    {
     "data": {
      "text/plain": [
       "'Olá, !odnum, Se, eu, for, uma, arvalap, com, mais, de, ocnic, ,sartel, me, atrevni'"
      ]
     },
     "execution_count": 28,
     "metadata": {},
     "output_type": "execute_result"
    }
   ],
   "source": [
    "# 4th: Testing join\n",
    "\n",
    "', '.join([word if len(word)<5 else word[::-1] for word in my_sentence.split()])"
   ]
  }
 ],
 "metadata": {
  "kernelspec": {
   "display_name": "codewars",
   "language": "python",
   "name": "codewars"
  },
  "language_info": {
   "codemirror_mode": {
    "name": "ipython",
    "version": 3
   },
   "file_extension": ".py",
   "mimetype": "text/x-python",
   "name": "python",
   "nbconvert_exporter": "python",
   "pygments_lexer": "ipython3",
   "version": "3.8.3"
  }
 },
 "nbformat": 4,
 "nbformat_minor": 4
}
